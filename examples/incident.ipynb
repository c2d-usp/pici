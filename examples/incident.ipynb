{
 "cells": [
  {
   "cell_type": "markdown",
   "id": "5feb6726",
   "metadata": {},
   "source": [
    "# Incident example\n",
    "\n",
    "In this example, we will use a considerably complex graph that simulates a microservice architecture to perform Weak PN and Weak PS queries"
   ]
  },
  {
   "cell_type": "code",
   "execution_count": null,
   "id": "1c6559f2",
   "metadata": {},
   "outputs": [],
   "source": [
    "import logging\n",
    "import os\n",
    "\n",
    "import networkx as nx\n",
    "import pandas as pd\n",
    "\n",
    "from pici.causal_model import CausalModel\n",
    "from pici.utils._enum import DataExamplesPaths\n",
    "\n",
    "THIS_DIR = os.getcwd()\n",
    "PROJECT_ROOT = os.path.abspath(os.path.join(THIS_DIR, \"..\"))\n",
    "import sys\n",
    "if PROJECT_ROOT not in sys.path:\n",
    "    sys.path.insert(0, PROJECT_ROOT)"
   ]
  },
  {
   "cell_type": "markdown",
   "id": "eca58983",
   "metadata": {},
   "source": [
    "## Defining the model"
   ]
  },
  {
   "cell_type": "code",
   "execution_count": null,
   "id": "06662a3c",
   "metadata": {},
   "outputs": [],
   "source": [
    "edges_list_2 = [\n",
    "    (\"DB_Change\", \"DB_Latency\"),\n",
    "    (\"DB_Latency\", \"MS-B_Latency\"),\n",
    "    (\"MS-B_Latency\", \"MS-B_Error\"),\n",
    "    (\"MS-B_Latency\", \"MS-A_Latency\"),\n",
    "    (\"MS-B_Error\", \"MS-A_Error\"),\n",
    "    (\"MS-A_Latency\", \"MS-A_Threads\"),\n",
    "    (\"MS-A_Threads\", \"MS-A_Crash\"),\n",
    "    (\"MS-A_Error\", \"Outage\"),\n",
    "    (\"MS-A_Crash\", \"Outage\"),\n",
    "    (\"HeavyTraffic\", \"MS-B_Latency\"),\n",
    "    (\"HeavyTraffic\", \"MS-A_Latency\"),\n",
    "    # UNOBS\n",
    "    (\"Unob_helper_1\", \"DB_Change\"),\n",
    "    (\"Unob_helper_2\", \"DB_Latency\"),\n",
    "    (\"Unob_helper_3\", \"MS-B_Error\"),\n",
    "    (\"Unob_helper_4\", \"MS-A_Error\"),\n",
    "    (\"Unob_helper_5\", \"MS-A_Threads\"),\n",
    "    (\"Unob_helper_6\", \"MS-A_Crash\"),\n",
    "    (\"Unob_helper_7\", \"Outage\"),\n",
    "]\n",
    "\n",
    "latent_nodes_2 = [\n",
    "    \"HeavyTraffic\",\n",
    "    \"Unob_helper_1\",\n",
    "    \"Unob_helper_2\",\n",
    "    \"Unob_helper_3\",\n",
    "    \"Unob_helper_4\",\n",
    "    \"Unob_helper_5\",\n",
    "    \"Unob_helper_6\",\n",
    "    \"Unob_helper_7\",\n",
    "]\n",
    "edges_2 = nx.DiGraph(edges_list_2)\n",
    "df_medium_scale_incident = pd.read_csv(\n",
    "    os.path.join(PROJECT_ROOT, DataExamplesPaths.NEW_MEDIUM_SCALE_OUTAGE_INCIDENT.value)\n",
    ")\n",
    "model_2 = CausalModel(\n",
    "    data=df_medium_scale_incident,\n",
    "    edges=edges_2,\n",
    "    unobservables_labels=latent_nodes_2,\n",
    ")"
   ]
  },
  {
   "cell_type": "markdown",
   "id": "2d94f7c2",
   "metadata": {},
   "source": [
    "## Visualizing the graph"
   ]
  },
  {
   "cell_type": "code",
   "execution_count": null,
   "id": "6ba1b9cb",
   "metadata": {},
   "outputs": [],
   "source": [
    "nx.draw_networkx(model_2.graph.DAG)"
   ]
  },
  {
   "cell_type": "markdown",
   "id": "697cf44d",
   "metadata": {},
   "source": [
    "## Generating an image to save"
   ]
  },
  {
   "cell_type": "code",
   "execution_count": null,
   "id": "3bd25e90",
   "metadata": {},
   "outputs": [],
   "source": [
    "model_2.generate_graph_image(\"model_2.png\")"
   ]
  },
  {
   "cell_type": "markdown",
   "id": "78800288",
   "metadata": {},
   "source": [
    "## Calculating the Weak PN and Weak PS queries"
   ]
  },
  {
   "cell_type": "code",
   "execution_count": null,
   "id": "b3256748",
   "metadata": {},
   "outputs": [],
   "source": [
    "intervention_1 = \"MS-B_Latency\"\n",
    "intervention_2 = \"DB_Latency\"\n",
    "target = \"Outage\"\n",
    "\n",
    "print(\n",
    "    f\"Intervention: {intervention_1} Target: {target} --> Weak-PN = {model_2.weak_pn_inference(intervention_label=intervention_1, target_label=target)}\"\n",
    ")\n",
    "\n",
    "print(\n",
    "    f\"Intervention: {intervention_1} Target: {target} --> Weak-PS = {model_2.weak_ps_inference(intervention_label=intervention_1, target_label=target)}\"\n",
    ")\n",
    "\n",
    "print(\n",
    "    f\"Intervention: {intervention_2} Target: {target} --> Weak-PN = {model_2.weak_pn_inference(intervention_label=intervention_2, target_label=target)}\"\n",
    ")\n",
    "\n",
    "print(\n",
    "    f\"Intervention: {intervention_2} Target: {target} --> Weak-PS = {model_2.weak_ps_inference(intervention_label=intervention_2, target_label=target)}\"\n",
    ")"
   ]
  }
 ],
 "metadata": {
  "kernelspec": {
   "display_name": "myenv (3.11.13)",
   "language": "python",
   "name": "python3"
  },
  "language_info": {
   "codemirror_mode": {
    "name": "ipython",
    "version": 3
   },
   "file_extension": ".py",
   "mimetype": "text/x-python",
   "name": "python",
   "nbconvert_exporter": "python",
   "pygments_lexer": "ipython3",
   "version": "3.11.13"
  }
 },
 "nbformat": 4,
 "nbformat_minor": 5
}
