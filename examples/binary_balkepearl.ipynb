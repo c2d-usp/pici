{
 "cells": [
  {
   "cell_type": "markdown",
   "id": "5feb6726",
   "metadata": {},
   "source": [
    "# Binary Balke & Pearl example\n",
    "\n",
    "In this example, we will use a simple graph presented in Balke & Pearl, 1994 to perform d-separation checks and intervention queries"
   ]
  },
  {
   "cell_type": "code",
   "execution_count": null,
   "id": "1c6559f2",
   "metadata": {},
   "outputs": [],
   "source": [
    "import logging\n",
    "import os\n",
    "\n",
    "import networkx as nx\n",
    "import pandas as pd\n",
    "\n",
    "from pici.causal_model import CausalModel\n",
    "from pici.utils._enum import DataExamplesPaths\n",
    "\n",
    "THIS_DIR = os.getcwd()\n",
    "PROJECT_ROOT = os.path.abspath(os.path.join(THIS_DIR, \"..\"))\n",
    "import sys\n",
    "if PROJECT_ROOT not in sys.path:\n",
    "    sys.path.insert(0, PROJECT_ROOT)"
   ]
  },
  {
   "cell_type": "markdown",
   "id": "eca58983",
   "metadata": {},
   "source": [
    "## Defining the model"
   ]
  },
  {
   "cell_type": "code",
   "execution_count": null,
   "id": "06662a3c",
   "metadata": {},
   "outputs": [],
   "source": [
    "balke_input = \"Z -> X, X -> Y, U1 -> X, U1 -> Y, U2 -> Z\"\n",
    "balke_cardinalities = {\"Z\": 2, \"X\": 2, \"Y\": 2, \"U1\": 0, \"U2\": 0}\n",
    "balke_unobs = [\"U1\", \"U2\"]\n",
    "balke_target = \"Y\"\n",
    "balke_target_value = 1\n",
    "balke_intervention = \"X\"\n",
    "balke_intervention_value = 1\n",
    "balke_csv_path = DataExamplesPaths.CSV_BALKE_PEARL_EXAMPLE.value\n",
    "balke_df = pd.read_csv(os.path.join(PROJECT_ROOT, balke_csv_path))\n",
    "\n",
    "balke_model = CausalModel(\n",
    "    data=balke_df,\n",
    "    edges=balke_input,\n",
    "    custom_cardinalities=balke_cardinalities,\n",
    "    unobservables_labels=balke_unobs,\n",
    "    interventions=(balke_intervention, balke_intervention_value),\n",
    "    target=(balke_target, balke_target_value),\n",
    ")"
   ]
  },
  {
   "cell_type": "markdown",
   "id": "2d94f7c2",
   "metadata": {},
   "source": [
    "## Visualizing the graph"
   ]
  },
  {
   "cell_type": "code",
   "execution_count": null,
   "id": "6ba1b9cb",
   "metadata": {},
   "outputs": [],
   "source": [
    "nx.draw_networkx(balke_model.graph.DAG)"
   ]
  },
  {
   "cell_type": "markdown",
   "id": "2d64568b",
   "metadata": {},
   "source": [
    "## Generating an image to save"
   ]
  },
  {
   "cell_type": "code",
   "execution_count": null,
   "id": "c3a39c5c",
   "metadata": {},
   "outputs": [],
   "source": [
    "balke_model.generate_graph_image(\"balke.png\")"
   ]
  },
  {
   "cell_type": "markdown",
   "id": "f496981c",
   "metadata": {},
   "source": [
    "## Checking d-separation"
   ]
  },
  {
   "cell_type": "code",
   "execution_count": null,
   "id": "5e769c87",
   "metadata": {},
   "outputs": [],
   "source": [
    "print(\n",
    "    f\"Is Z d-separated from node Y given node X? {balke_model.are_d_separated_in_intervened_graph(['Z'], ['Y'], ['X'])}\"\n",
    ")"
   ]
  },
  {
   "cell_type": "markdown",
   "id": "78800288",
   "metadata": {},
   "source": [
    "## Calculating the interventions"
   ]
  },
  {
   "cell_type": "code",
   "execution_count": null,
   "id": "b3256748",
   "metadata": {},
   "outputs": [],
   "source": [
    "lower, upper = balke_model.intervention_query()\n",
    "print(\n",
    "    f\"{lower} <= P({balke_target}={balke_target_value}|do({balke_intervention}={balke_intervention_value})) <= {upper}\"\n",
    ")"
   ]
  }
 ],
 "metadata": {
  "kernelspec": {
   "display_name": "myenv (3.11.13)",
   "language": "python",
   "name": "python3"
  },
  "language_info": {
   "codemirror_mode": {
    "name": "ipython",
    "version": 3
   },
   "file_extension": ".py",
   "mimetype": "text/x-python",
   "name": "python",
   "nbconvert_exporter": "python",
   "pygments_lexer": "ipython3",
   "version": "3.11.13"
  }
 },
 "nbformat": 4,
 "nbformat_minor": 5
}
