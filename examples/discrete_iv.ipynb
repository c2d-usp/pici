{
 "cells": [
  {
   "cell_type": "markdown",
   "id": "5feb6726",
   "metadata": {},
   "source": [
    "# Discrete IV Random example\n",
    "\n",
    "In this example, we will use the same graph from the Balke Pearl example, except some of the variables will be discrete instead of binary and the dataset will be randomly generated, in order to calculate intervention queries"
   ]
  },
  {
   "cell_type": "code",
   "execution_count": null,
   "id": "1c6559f2",
   "metadata": {},
   "outputs": [],
   "source": [
    "import logging\n",
    "import os\n",
    "\n",
    "import networkx as nx\n",
    "import pandas as pd\n",
    "\n",
    "from pici.causal_model import CausalModel\n",
    "from pici.utils._enum import DataExamplesPaths\n",
    "\n",
    "THIS_DIR = os.getcwd()\n",
    "PROJECT_ROOT = os.path.abspath(os.path.join(THIS_DIR, \"..\"))\n",
    "import sys\n",
    "if PROJECT_ROOT not in sys.path:\n",
    "    sys.path.insert(0, PROJECT_ROOT)"
   ]
  },
  {
   "cell_type": "markdown",
   "id": "eca58983",
   "metadata": {},
   "source": [
    "## Defining the model"
   ]
  },
  {
   "cell_type": "code",
   "execution_count": null,
   "id": "06662a3c",
   "metadata": {},
   "outputs": [],
   "source": [
    "iv_input = \"Z -> X, X -> Y, U1 -> X, U1 -> Y, U2 -> Z\"\n",
    "iv_cardinalities = {\"Z\": 4, \"X\": 3, \"Y\": 2, \"U1\": 0, \"U2\": 0}\n",
    "iv_unobs = [\"U1\", \"U2\"]\n",
    "iv_target = \"Y\"\n",
    "iv_target_value = 1\n",
    "iv_intervention = \"X\"\n",
    "iv_intervention_value = 1\n",
    "iv_csv_path = DataExamplesPaths.CSV_DISCRETE_IV_RANDOM_EXAMPLE.value\n",
    "iv_df = pd.read_csv(os.path.join(PROJECT_ROOT, iv_csv_path))\n",
    "\n",
    "iv_model = CausalModel(\n",
    "    data=iv_df,\n",
    "    edges=iv_input,\n",
    "    custom_cardinalities=iv_cardinalities,\n",
    "    unobservables_labels=iv_unobs,\n",
    "    interventions=(iv_intervention, iv_intervention_value),\n",
    "    target=(iv_target, iv_target_value),\n",
    ")"
   ]
  },
  {
   "cell_type": "markdown",
   "id": "2d94f7c2",
   "metadata": {},
   "source": [
    "## Visualizing the graph"
   ]
  },
  {
   "cell_type": "code",
   "execution_count": null,
   "id": "6ba1b9cb",
   "metadata": {},
   "outputs": [],
   "source": [
    "nx.draw_networkx(iv_model.graph.DAG)"
   ]
  },
  {
   "cell_type": "markdown",
   "id": "2d64568b",
   "metadata": {},
   "source": [
    "## Generating an image to save"
   ]
  },
  {
   "cell_type": "code",
   "execution_count": null,
   "id": "c3a39c5c",
   "metadata": {},
   "outputs": [],
   "source": [
    "iv_model.generate_graph_image(\"discrete_iv.png\")"
   ]
  },
  {
   "cell_type": "markdown",
   "id": "78800288",
   "metadata": {},
   "source": [
    "## Calculating the interventions"
   ]
  },
  {
   "cell_type": "code",
   "execution_count": null,
   "id": "b3256748",
   "metadata": {},
   "outputs": [],
   "source": [
    "lower, upper = iv_model.intervention_query()\n",
    "print(\n",
    "    f\"{lower} <= P({iv_target}={iv_target_value}|do({iv_intervention}={iv_intervention_value})) <= {upper}\"\n",
    ")"
   ]
  }
 ],
 "metadata": {
  "kernelspec": {
   "display_name": "myenv (3.11.13)",
   "language": "python",
   "name": "python3"
  },
  "language_info": {
   "codemirror_mode": {
    "name": "ipython",
    "version": 3
   },
   "file_extension": ".py",
   "mimetype": "text/x-python",
   "name": "python",
   "nbconvert_exporter": "python",
   "pygments_lexer": "ipython3",
   "version": "3.11.13"
  }
 },
 "nbformat": 4,
 "nbformat_minor": 5
}
